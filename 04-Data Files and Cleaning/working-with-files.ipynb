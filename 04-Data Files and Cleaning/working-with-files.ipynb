{
 "cells": [
  {
   "cell_type": "markdown",
   "metadata": {},
   "source": [
    "# Working With Files and Doing Data Cleaning"
   ]
  },
  {
   "cell_type": "markdown",
   "metadata": {},
   "source": [
    "## First, a Review on Planning Your Programs\n",
    "\n",
    "One of the most difficult things about learning to program is to learn how to start.  What to do before you write the code, and how to work your way through the coding process.\n",
    "\n",
    "A good general idea is to think through the problem you want to solve first -- just conceptually.  How will you know you have solved it?  Are there tests that you can use to be sure?  Can you break the problem down into smaller components, and solve those sequentially?  This is a step that is conceptualizing your algorithm, or your plan for the code.\n",
    "\n",
    "What approach would you use to solve each of those components? Can you describe those steps in English? We call this step writing 'pseudo-code'\n",
    "\n",
    "Finally, there is the coding step. And the inevitable debugging step.  You really can't do one without the other.\n",
    "\n",
    "Generally, it is good practice to work your way through problems in this way, and write the code for each building block, testing it to be sure it works for all the kinds of cases you can imagine, then test them together.  You'll end up being more productive, and far less frustrated, using a systematic, problem-solving approach.  \n",
    "\n",
    "And by all means, don't try to tackle it all at once.  Below is an example of how to work through this process."
   ]
  },
  {
   "cell_type": "markdown",
   "metadata": {},
   "source": [
    "### Phase 1: Conceptual Plan\n",
    "\n",
    "What do we need to do to determine whether each number between 1 and 100 is a prime number?\n",
    "\n",
    "1. We need to see if any given number can be divided evenly by any other number besides 1 and itself. \n",
    "2. We need to test this for every number between 1 and 100\n",
    "\n",
    "### Phase 2: Pseudo-Code\n",
    "\n",
    "1. Write a function (isprime) to test whether a number passed to it as an argument (x) is a prime number.\n",
    "Iterate over all values from x to 1.\n",
    "At each iteration, test whether the original x is evenly divisible by this iteration value.\n",
    "Keep track of how many times you get an evenly divisible result.\n",
    "If the result is more than 2, call x a prime number.\n",
    "\n",
    "2. Write a loop from 1 to 100, call this value (z)\n",
    "Within the loop, call function isprime, and pass it the value of z.\n",
    "Print the list of prime numbers.\n",
    "\n",
    "### Phase 3: Code Incrementally, Test, and Document\n",
    "\n",
    "Generally, build the code one step at a time, and test that step.  Add comments to explain your logic.  Make sure you include narrative in your assignments explaining your reasoning, and adding explanatory comments in the code every few lines to explain what you are doing in each part."
   ]
  },
  {
   "cell_type": "markdown",
   "metadata": {},
   "source": [
    "## Working With Files\n",
    "\n",
    "Most data you might want to work with is likely to be in some kind of file.  You often will want to work with data in comma separated text files, or in spreadsheet tables, or in tables stored in a database.  And you will increasingly find data online, not only as text or spreadsheets to download, but as Open Data APIs, returned from a web service as a JSON object.  This session covers how to work with a variety of file formats in Python, and how to begin processing data in files to clean data."
   ]
  },
  {
   "cell_type": "markdown",
   "metadata": {},
   "source": [
    "### Basics of Reading and Writing Files in Python\n",
    "\n",
    "Let's start by creating a simple file, and then reading it back.  We will use 'open' to open a file we will call 'tempfile' in 'write' (w) mode.  We will assign the file object, which is **iterable**, to an object we will arbitrarily call 'f'."
   ]
  },
  {
   "cell_type": "code",
   "execution_count": null,
   "metadata": {},
   "outputs": [],
   "source": [
    "f = open('tempfile.txt', 'w')\n",
    "for i in range(10):\n",
    "    f.write('this is line ' + str(i) + '\\n')\n",
    "f.close()"
   ]
  },
  {
   "cell_type": "markdown",
   "metadata": {},
   "source": [
    "You can open the text file in an editor to verify that this code wrote the file as expected.  Now open the file we just created in Python, in read mode (r)"
   ]
  },
  {
   "cell_type": "code",
   "execution_count": null,
   "metadata": {},
   "outputs": [],
   "source": [
    "f = open('tempfile.txt', 'r')"
   ]
  },
  {
   "cell_type": "markdown",
   "metadata": {},
   "source": [
    "The first method to read a file is to read it in all at once, with a read() method. Here we load the whole file in memory and assign it to a. Note that we will re-open the file here to start from the beginning. Otherwise it will be positioned at the end of the file and give us back an empty string. "
   ]
  },
  {
   "cell_type": "code",
   "execution_count": null,
   "metadata": {},
   "outputs": [],
   "source": [
    "f = open('tempfile.txt', 'r')\n",
    "a = f.read()\n",
    "a"
   ]
  },
  {
   "cell_type": "raw",
   "metadata": {},
   "source": [
    "Note that when we use read() it creates a string object.  The whole file is loaded into one big string.  Sometimes this may be useful, but often it is not the best way to load a file."
   ]
  },
  {
   "cell_type": "code",
   "execution_count": null,
   "metadata": {},
   "outputs": [],
   "source": [
    "type(a)"
   ]
  },
  {
   "cell_type": "markdown",
   "metadata": {},
   "source": [
    "An alternative approach is to step through reading each line of the file with the readline() method.  Notice that each time you execute this it advances to the next line.  Each line is read into a string object.  In this case we are not doing anything with that object except printing it."
   ]
  },
  {
   "cell_type": "code",
   "execution_count": null,
   "metadata": {},
   "outputs": [],
   "source": [
    "f = open('tempfile.txt', 'r')\n",
    "print(f.readline())\n",
    "print(f.readline())"
   ]
  },
  {
   "cell_type": "markdown",
   "metadata": {},
   "source": [
    "Here is another way to loop through the lines of the file and print them all out. Notice that printing the lines suppresses the quotes and the newline string."
   ]
  },
  {
   "cell_type": "code",
   "execution_count": null,
   "metadata": {},
   "outputs": [],
   "source": [
    "f = open('tempfile.txt', 'r')\n",
    "for line in f:\n",
    "    print(line, end='')"
   ]
  },
  {
   "cell_type": "markdown",
   "metadata": {},
   "source": [
    "The plural version of the readline() method generates a list of the lines in a file, with a string containing each line of the file.  Notice that this list contains the raw text contents, including the newline string '\\n'."
   ]
  },
  {
   "cell_type": "code",
   "execution_count": null,
   "metadata": {},
   "outputs": [],
   "source": [
    "f = open('tempfile.txt', 'r')\n",
    "a = f.readlines()\n",
    "a"
   ]
  },
  {
   "cell_type": "markdown",
   "metadata": {},
   "source": [
    "Using **with** is a handy way to open a file, load its data, and automatically close the file."
   ]
  },
  {
   "cell_type": "code",
   "execution_count": null,
   "metadata": {},
   "outputs": [],
   "source": [
    "with open('tempfile.txt', 'r') as f:\n",
    "    read_data = f.read()\n",
    "print(read_data)\n",
    "f.closed\n"
   ]
  },
  {
   "cell_type": "markdown",
   "metadata": {},
   "source": [
    "### Working with JSON\n",
    "\n",
    "JSON (JavaScript Object Notation) is a common format for data accessed from a web browser, which is generally running JavaScript.\n",
    "\n",
    "The json dumps() method converts Python objects to JSON format, using the counterpart format for each data type, as in the table below."
   ]
  },
  {
   "cell_type": "raw",
   "metadata": {},
   "source": [
    "\n",
    "Python\t       JSON\n",
    "dict\t       object\n",
    "list, tuple\t   array\n",
    "str\t           string\n",
    "int, float     number\n",
    "True\t       true\n",
    "False\t       false\n",
    "None\t       null"
   ]
  },
  {
   "cell_type": "code",
   "execution_count": null,
   "metadata": {},
   "outputs": [],
   "source": [
    "import json\n",
    "\n",
    "json.dumps([1,2,3])"
   ]
  },
  {
   "cell_type": "markdown",
   "metadata": {},
   "source": [
    "Notice that objects can be complex, containing multiple types of data, and still be easily translated between Python objects and JSON format.  The following example converts a Python list, containing one element that is a dictionary, to JSON."
   ]
  },
  {
   "cell_type": "code",
   "execution_count": null,
   "metadata": {},
   "outputs": [],
   "source": [
    "json.dumps([1,2,3,{'foo': 'bar'}])"
   ]
  },
  {
   "cell_type": "markdown",
   "metadata": {},
   "source": [
    "Below we convert the contents of tempfile to a json object."
   ]
  },
  {
   "cell_type": "code",
   "execution_count": null,
   "metadata": {},
   "outputs": [],
   "source": [
    "f = open('tempfile.txt', 'r')\n",
    "\n",
    "x = json.dumps(f.readlines())\n",
    "x"
   ]
  },
  {
   "cell_type": "markdown",
   "metadata": {},
   "source": [
    "With the dump() method, we can write JSON data to a file.  Here we read tempfile, and create a new JSON formatted file into which we write the contents of tempfile."
   ]
  },
  {
   "cell_type": "code",
   "execution_count": null,
   "metadata": {},
   "outputs": [],
   "source": [
    "f = open('tempfile.txt', 'r')\n",
    "j = open('temp.json', 'w')\n",
    "json.dump(f.readlines(), j)"
   ]
  },
  {
   "cell_type": "markdown",
   "metadata": {},
   "source": [
    "Using the load() method, we can read JSON formatted data and load it into a Python object."
   ]
  },
  {
   "cell_type": "code",
   "execution_count": null,
   "metadata": {},
   "outputs": [],
   "source": [
    "j = open('temp.json', 'r')\n",
    "x = json.load(j)\n",
    "x"
   ]
  },
  {
   "cell_type": "markdown",
   "metadata": {},
   "source": [
    "### Working with CSV Files\n",
    "\n",
    "CSV (Comma Separated Values) is probably the most common format of data you will encounter.  Files in this format are often exported in this format from a database table or from Excel, or just used as a simple, standard text (ASCII) file format for ease of use.\n",
    "\n",
    "Let's begin by writing a CSV file like the JSON example above, by importing the csv module, and writing a file with several columns, separated by commas."
   ]
  },
  {
   "cell_type": "code",
   "execution_count": null,
   "metadata": {},
   "outputs": [],
   "source": [
    "my_data = []\n",
    "for i in range(10):\n",
    "    my_data.append([i, i*2, i+2])\n",
    "my_data"
   ]
  },
  {
   "cell_type": "markdown",
   "metadata": {},
   "source": [
    "Now we will write the CSV file using my_data, and adding a header row first with column names.  Note that we open the file as before, in write mode, but now use the writerow() method to write one row with the header, and writerows() to iterate over the rows and write them to the file."
   ]
  },
  {
   "cell_type": "code",
   "execution_count": null,
   "metadata": {},
   "outputs": [],
   "source": [
    "import csv\n",
    "with open('my_data.csv', 'w', newline='') as f:\n",
    "    writer = csv.writer(f)\n",
    "    writer.writerow([\"x\", \"y\", \"z\"])\n",
    "    writer.writerows(my_data)"
   ]
  },
  {
   "cell_type": "markdown",
   "metadata": {},
   "source": [
    "Reading a CSV file is very similar to writing one, but simpler.  We create a reader object that is iterable, and then we can iterate over the rows and do things, like print each row."
   ]
  },
  {
   "cell_type": "code",
   "execution_count": null,
   "metadata": {},
   "outputs": [],
   "source": [
    "with open('my_data.csv', newline='') as f:\n",
    "    reader = csv.reader(f)\n",
    "    for row in reader:\n",
    "        print(row)"
   ]
  },
  {
   "cell_type": "markdown",
   "metadata": {},
   "source": [
    "If we want to actually work with the data, then we need to assign it to an object rather than just printing it.  Here we can use the list method to convert the iterable reader object to a list, one per row."
   ]
  },
  {
   "cell_type": "code",
   "execution_count": null,
   "metadata": {},
   "outputs": [],
   "source": [
    "with open('my_data.csv', newline='') as f:\n",
    "    reader = csv.reader(f)\n",
    "    my_data = list(reader)\n",
    "my_data"
   ]
  },
  {
   "cell_type": "markdown",
   "metadata": {},
   "source": [
    "If you want to skip the header row in order to have the data without the header, you can use **next** after instantiating the reader object, to advance one row in the CVS file."
   ]
  },
  {
   "cell_type": "code",
   "execution_count": null,
   "metadata": {},
   "outputs": [],
   "source": [
    "with open('my_data.csv', newline='') as f:\n",
    "    reader = csv.reader(f)\n",
    "    next(reader)\n",
    "    my_data = list(reader)\n",
    "my_data"
   ]
  },
  {
   "cell_type": "markdown",
   "metadata": {},
   "source": [
    "Since the data is now available as an object, you can do normal Python processing on it, like selecting the first entry of each row and printing it."
   ]
  },
  {
   "cell_type": "code",
   "execution_count": null,
   "metadata": {},
   "outputs": [],
   "source": [
    "for row in my_data:\n",
    "    print(row[0])"
   ]
  },
  {
   "cell_type": "markdown",
   "metadata": {},
   "source": [
    "### Reading a CSV File and Computing Statistics With it\n",
    "\n",
    "Use rain.csv to calculate mean and maximum values in a column"
   ]
  },
  {
   "cell_type": "code",
   "execution_count": null,
   "metadata": {},
   "outputs": [],
   "source": [
    "with open('data/rain.csv', 'r') as csvfile:\n",
    "    \n",
    "    # initialize a counter and variables to contain our descriptive stats\n",
    "    count = 0 #at the end, divide cumulative_sum by this to get the mean\n",
    "    cumulative_sum = 0 #our rolling sum\n",
    "    max_value = -1 #pick a really small number that's guaranteed to be less than the max\n",
    "    \n",
    "    # open the file and skip the header row\n",
    "    my_csv = csv.reader(csvfile)\n",
    "    next(my_csv)\n",
    "    \n",
    "    # loop through each data row\n",
    "    for row in my_csv:\n",
    "        \n",
    "        # rainfall amount is in column 1, only process this row's value if not an empty string\n",
    "        if not row[1] == '':\n",
    "            \n",
    "            # increment the counter and extract this row's rainfall as a float\n",
    "            count = count + 1\n",
    "            rainfall = float(row[1])\n",
    "            \n",
    "            # add this row's rainfall to the cumulative sum\n",
    "            cumulative_sum = cumulative_sum + rainfall\n",
    "            \n",
    "            # if this row's rainfall is greater than the current max value, update with the new max\n",
    "            if rainfall > max_value:\n",
    "                max_value = rainfall\n",
    "\n",
    "    # after looping through all the rows, divide the cumulative sum by the count and round to get the mean\n",
    "    mean_value = round(cumulative_sum / count, 1)\n",
    "    \n",
    "    # print out the mean and max values\n",
    "    print('mean:', mean_value, 'inches')\n",
    "    print('max:', max_value, 'inches')"
   ]
  },
  {
   "cell_type": "markdown",
   "metadata": {},
   "source": [
    "How would you find the minimum rainfall amount?"
   ]
  },
  {
   "cell_type": "markdown",
   "metadata": {},
   "source": [
    "### Cleaning up Messy Data"
   ]
  },
  {
   "cell_type": "markdown",
   "metadata": {},
   "source": [
    "Let's look at another data file - one that contains a few Craigslist rental listings, that we have already done some cleanup on."
   ]
  },
  {
   "cell_type": "code",
   "execution_count": null,
   "metadata": {},
   "outputs": [],
   "source": [
    "with open('data/rents_raw.csv', 'r') as csvfile:\n",
    "    my_csv = csv.reader(csvfile)\n",
    "    for row in my_csv:\n",
    "        print(row)"
   ]
  },
  {
   "cell_type": "code",
   "execution_count": null,
   "metadata": {},
   "outputs": [],
   "source": [
    "# the column headers are the first row in the data file\n",
    "# use next to iterate our csv reader to the first row to grab the headers\n",
    "with open('data/rents_raw.csv', 'r') as csvfile:\n",
    "    my_csv = csv.reader(csvfile)\n",
    "    headers = next(my_csv)\n",
    "    print(headers)"
   ]
  },
  {
   "cell_type": "code",
   "execution_count": null,
   "metadata": {},
   "outputs": [],
   "source": [
    "# what is the 1st column (zero-indexed) in our data set?\n",
    "headers[1]"
   ]
  },
  {
   "cell_type": "code",
   "execution_count": null,
   "metadata": {},
   "outputs": [],
   "source": [
    "# for each row in the data set, print the price column's value\n",
    "with open('data/rents_raw.csv', 'r') as csvfile:\n",
    "    my_csv = csv.reader(csvfile)\n",
    "    for row in my_csv:\n",
    "        print(row[1])"
   ]
  },
  {
   "cell_type": "code",
   "execution_count": null,
   "metadata": {},
   "outputs": [],
   "source": [
    "# create a new list to contain the column of prices in the data set\n",
    "prices = []\n",
    "with open('data/rents_raw.csv', 'r') as csvfile:\n",
    "    my_csv = csv.reader(csvfile)\n",
    "    for row in my_csv:\n",
    "        prices.append(row[1])  \n",
    "prices"
   ]
  },
  {
   "cell_type": "markdown",
   "metadata": {},
   "source": [
    "This list has a couple of problems. First, it includes the header. Second, it's all strings even though prices are numeric data. Third, it contains some empty strings. We'll have to clean it up."
   ]
  },
  {
   "cell_type": "code",
   "execution_count": null,
   "metadata": {},
   "outputs": [],
   "source": [
    "# to remove the first element of the list, we can just capture position 1 through the end of the list\n",
    "prices_noheader = prices[1:]\n",
    "prices_noheader"
   ]
  },
  {
   "cell_type": "code",
   "execution_count": null,
   "metadata": {},
   "outputs": [],
   "source": [
    "# now let's convert the price strings to integers\n",
    "for price in prices_noheader:\n",
    "    print(int(float(price)), ' ')"
   ]
  },
  {
   "cell_type": "code",
   "execution_count": null,
   "metadata": {},
   "outputs": [],
   "source": [
    "# you can't convert an empty string to a numeric type\n",
    "for price in prices_noheader:\n",
    "    if not price == '':\n",
    "        print(int(float(price)))\n",
    "    else:\n",
    "        print('None')"
   ]
  },
  {
   "cell_type": "code",
   "execution_count": null,
   "metadata": {},
   "outputs": [],
   "source": [
    "# encapsulate this functionality inside a new function\n",
    "def extract_int_price(price):\n",
    "    if not price == '':\n",
    "        return int(float(price))\n",
    "    else:\n",
    "        return None"
   ]
  },
  {
   "cell_type": "code",
   "execution_count": null,
   "metadata": {},
   "outputs": [],
   "source": [
    "# use our function to convert each element in the list of prices to an integer\n",
    "for price in prices_noheader:\n",
    "    print(extract_int_price(price))"
   ]
  },
  {
   "cell_type": "code",
   "execution_count": null,
   "metadata": {},
   "outputs": [],
   "source": [
    "# rather than just printing each converted value, turn it into a new list called int_prices\n",
    "int_prices = []\n",
    "for price in prices_noheader:\n",
    "    int_prices.append(extract_int_price(price))\n",
    "print(int_prices)"
   ]
  },
  {
   "cell_type": "markdown",
   "metadata": {},
   "source": [
    "### Now let's clean up our neighborhood names\n"
   ]
  },
  {
   "cell_type": "code",
   "execution_count": null,
   "metadata": {},
   "outputs": [],
   "source": [
    "# replace any forward slashes in neighborhood name with a hyphen\n",
    "with open('data/rents_raw.csv', 'r') as csvfile:\n",
    "    my_csv = csv.reader(csvfile)\n",
    "    next(my_csv) #skip the header row\n",
    "    for row in my_csv:\n",
    "        print(row[0].replace('/', '-')) #use string.replace() method"
   ]
  },
  {
   "cell_type": "markdown",
   "metadata": {},
   "source": [
    "### Create a new data set with cleaned up variables"
   ]
  },
  {
   "cell_type": "code",
   "execution_count": null,
   "metadata": {},
   "outputs": [],
   "source": [
    "# create a new function to convert bedrooms from a string to an int\n",
    "def extract_int_bedrooms(bedrooms):\n",
    "    if not bedrooms == '':\n",
    "        return int(float(bedrooms))\n",
    "    else:\n",
    "        return None"
   ]
  },
  {
   "cell_type": "code",
   "execution_count": null,
   "metadata": {},
   "outputs": [],
   "source": [
    "# create a new function to replace forward slashes and commas with hyphens\n",
    "def clean_neighborhood(neighborhood_name):\n",
    "    # you can daisy chain multiple string.replace() methods\n",
    "    return neighborhood_name.replace('/', '-').replace(',', '')"
   ]
  },
  {
   "cell_type": "code",
   "execution_count": null,
   "metadata": {},
   "outputs": [],
   "source": [
    "# clean the data set by calling the cleaning functions and save the results to variables\n",
    "rentals_cleaned = []\n",
    "with open('data/rents_raw.csv', 'r') as csvfile:\n",
    "    my_csv = csv.reader(csvfile)\n",
    "    next(my_csv)\n",
    "    for row in my_csv:\n",
    "        neighborhood_cleaned = clean_neighborhood(row[0])\n",
    "        price_cleaned = extract_int_price(row[1])\n",
    "        bedrooms_cleaned = extract_int_bedrooms(row[2])\n",
    "        rentals_cleaned.append([neighborhood_cleaned, price_cleaned, bedrooms_cleaned])      \n",
    "\n",
    "# display our nested lists of data        \n",
    "rentals_cleaned"
   ]
  },
  {
   "cell_type": "markdown",
   "metadata": {},
   "source": [
    "# Exercise: \n",
    "\n",
    "1. Calculate the price per square foot, and write the result to a new file.  \n",
    "2. Calculate the average price per square foot. \n",
    "3. Explain how you have dealt with missing data in 1 and 2, and how that might affect your result. "
   ]
  },
  {
   "cell_type": "code",
   "execution_count": 1,
   "metadata": {},
   "outputs": [
    {
     "name": "stdout",
     "output_type": "stream",
     "text": [
      "['price', '2495', '2695', '3150', '2800', '2196', '3264', '2000', '4740', '3395', '2699', '3620', '2025', '2378', '1795', '4299', '950', '2695', '4500', '3900', '2939', '2045', '2505', '3000', '3100', '2481', '2295', '3525', '2595', '1400', '3050', '2450', '2495', '2955', '2950', '3699', '3400', '2079', '1794', '1540', '2245', '3595', '1750', '2595', '4500', '3669', '2995', '4150', '6950', '4750', '2895', '5400', '2625', '1895', '2320', '1705', '4250', '3495', '3289', '1375', '3600', '1695', '2425', '2795', '2750', '3750', '3600', '1799', '2700', '1395', '2175', '3050', '2775', '2895', '3995', '2775', '2744', '4899', '2531', '5500', '5875', '4856', '1595', '1351', '1495', '3200', '1275', '1200', '2576', '2088', '2950', '2769', '2695', '2995', '3995', '5195', '3250', '1350', '2626', '1995', '1795', '2606', '3495', '2739', '4100', '2046', '2307', '3450', '2200', '15000', '3500', '950', '1200', '1937', '2282', '6000', '1575', '1695', '4900', '5995', '2995', '2145', '2600', '2895', '3475', '4400', '34', '1308', '2176', '2150', '3800', '3450', '3398', '2987', '3495', '2145', '2405', '1575', '1695', '3299', '3399', '4200', '1025', '1850', '1450', '3398', '3498', '3330', '2363', '2895', '2150', '2200', '2500', '1635', '1286', '3200', '2295', '2895', '2950', '2149', '1825', '2498', '3644', '4499', '1695', '1000', '2500', '3900', '4950', '2130', '3200', '1725', '2100', '3475', '3500', '2495', '1800', '3000', '3200', '2850', '2600', '1750', '1995', '1595', '1890', '32', '2700', '2230', '2395', '1975', '1654', '2975', '2924', '1400', '2070', '1287', '1989', '1775', '4555', '2299', '1745', '1706', '5795', '1395', '3975', '2539', '2452', '2640', '2445', '3699', '3049', '1195', '2100', '1325', '2199', '1450', '2199', '2900', '2188', '1800', '2270', '4995', '4209', '2955', '1750', '3600', '2000', '2495', '2082', '2685', '1250', '1950', '2400', '5010', '1850', '1775', '1595', '500', '1485', '2850', '2200', '1725', '3823', '1905', '3900', '4674', '1850', '3400', '975', '4650', '3949', '3695', '3527', '2517', '6600', '3200', '2395', '2295', '1950', '1900', '2231', '2457', '4700', '1375', '1375', '3795', '5850', '3150', '2400', '1550', '1695', '1850', '1595', '3664', '3595', '2850', '1375', '2482', '2700', '5199', '3105', '2295', '2095', '', '1600', '2600', '3700', '1800', '2200', '1376', '5850', '3050', '6395', '1625', '1885', '1600', '1695', '1725', '2785', '2489', '2566', '1900', '1900', '3095', '2695', '2395', '2795', '2000', '2500', '1995', '6000', '2700', '2210', '1796', '1796', '1500', '5630', '3200', '1995', '2595', '1100', '2491', '1950', '1950', '2251', '2793', '1625', '1695', '2999', '3159', '2150', '2595', '980', '1525', '1900', '2700', '2445', '2850', '1696', '1695', '2396', '3000', '2500', '1350', '1775', '1725', '5000', '1495', '2088', '3330', '2098', '2740', '1950', '4000', '4500', '1350', '4680', '2100', '2050', '3000', '2110', '2098', '1951', '1950', '2250', '3889', '3145', '2519', '2800', '3800', '1275', '1811', '3295', '2456', '2695', '2395', '2855', '3699', '3000', '1900', '1430', '1450', '1200', '850', '7500', '2895', '2800', '2395', '2996', '2195', '3400', '3400', '2495', '1850', '2085', '1835', '6000', '2725', '2050', '2500', '1776', '2650', '2658', '2849', '4500', '4500', '1450', '2750', '1992', '2200', '2000', '2600', '2225', '4200', '2235', '1470', '2445', '3200', '3280', '2635', '2150', '2290', '1795', '1850', '1535', '3250', '15000', '3250', '1698', '1725', '2445', '3425', '4750', '3550', '2500', '1995', '1535', '2050', '2695', '2595', '2939', '2763', '2600', '3050', '3800', '3699', '2600', '1750', '1775', '3150', '3950', '2475', '5495', '4200', '2395', '1759', '3395', '2599', '2200', '2500', '1995', '3950', '7000', '2225', '3295', '2225', '2371', '2399', '4995', '4745', '1595', '1454', '1800', '8200', '1749', '2833', '2905', '2759', '1525', '7080', '2650', '2079', '2195', '3182', '1639', '2650', '4400', '3700', '3200', '3800', '2850', '4700', '3000', '3300', '3449', '2149', '2250', '1030', '1175', '1450', '800']\n",
      "['sqft', '755', '443', '1242', '', '676', '1138', '822', '1406', '', '', '860', '636', '1019', '715', '1533', '', '1200', '', '1600', '1100', '760', '908', '', '1000', '1008', '980', '', '', '', '', '952', '1056', '1062', '', '', '', '887', '1240', '563', '', '', '', '', '', '1154', '945', '2776', '4005', '', '', '', '1726', '900', '985', '', '2800', '', '1267', '1994', '1603', '', '400', '950', '', '', '1357', '', '1400', '', '1200', '1000', '', '1112', '', '900', '1216', '2859', '1150', '', '', '1211', '835', '734', '989', '1250', '690', '1640', '532', '', '1500', '', '1050', '1116', '', '', '850', '735', '1320', '', '942', '1263', '3500', '941', '2200', '697', '701', '2347', '809', '', '', '', '', '1000', '800', '1680', '900', '', '1300', '', '800', '808', '1170', '1100', '', '1900', '', '740', '1000', '2067', '', '1080', '1130', '1015', '1068', '530', '702', '', '', '1090', '', '1500', '', '975', '', '1130', '1130', '915', '', '1000', '600', '', '', '', '', '1322', '1077', '1112', '1600', '700', '675', '900', '', '', '', '', '', '2200', '1850', '676', '1230', '700', '820', '', '1100', '', '1110', '', '', '1538', '', '400', '650', '', '721', '', '750', '920', '1123', '600', '920', '1730', '1050', '', '500', '', '732', '650', '879', '', '', '778', '', '', '1200', '904', '950', '1056', '1060', '', '', '1349', '', '1346', '', '650', '850', '1000', '', '625', '793', '', '', '1405', '', '2800', '', '743', '782', '1051', '', '800', '350', '1265', '720', '866', '1150', '', '1936', '1150', '', '700', '1077', '746', '1100', '', '925', '779', '600', '1275', '1340', '1150', '1412', '546', '1900', '650', '2698', '1680', '2125', '', '650', '950', '1416', '450', '', '', '1900', '', '1200', '', '', '', '1200', '1154', '1059', '1150', '450', '676', '1260', '', '942', '', '', '', '1200', '', '1700', '', '725', '450', '1900', '', '', '', '1064', '1150', '932', '1068', '1350', '705', '638', '615', '615', '561', '', '2698', '', '1550', '1358', '1240', '2100', '850', '928', '750', '750', '250', '', '620', '', '', '600', '846', '1500', '', '820', '876', '600', '570', '', '', '', '', '', '', '', '850', '722', '', '570', '570', '876', '750', '', '700', '', '1068', '3100', '641', '650', '', '', '935', '750', '', '1147', '850', '3800', '1130', '', '595', '', '', '750', '750', '750', '1241', '', '600', '1556', '', '690', '1028', '1100', '712', '680', '939', '1116', '', '', '1200', '738', '', '1450', '1000', '2963', '940', '1040', '876', '1220', '', '', '', '1700', '1816', '', '', '4200', '1360', '800', '860', '701', '1076', '', '', '900', '1590', '', '1087', '723', '2000', '', '2000', '740', '1700', '901', '', '790', '', '700', '900', '1100', '1200', '650', '1540', '896', '1600', '5025', '1600', '615', '669', '1119', '1160', '', '1160', '2636', '1000', '896', '985', '', '796', '1100', '950', '1100', '', '978', '', '2237', '725', '', '2008', '2070', '', '1860', '2234', '880', '445', '', '', '428', '3283', '1992', '1500', '1920', '740', '910', '740', '852', '1060', '', '1309', '1169', '826', '1500', '', '921', '810', '1128', '1044', '450', '', '', '887', '1231', '1036', '', '954', '1650', '', '', '2492', '', '1628', '971', '1225', '', '', '892', '700', '615', '', '']\n"
     ]
    }
   ],
   "source": [
    "#create list to contain sqft and price of each rental\n",
    "import csv\n",
    "sqft = []\n",
    "prices = []\n",
    "with open('data/rents_full.csv', 'r') as csvfile:\n",
    "    my_csv = csv.reader(csvfile)\n",
    "    for row in my_csv:\n",
    "        if not sqft == '' or prices == '':\n",
    "            sqft.append(row[4])\n",
    "            prices.append(row[3])\n",
    "    print(sqft)\n",
    "    print(prices)"
   ]
  },
  {
   "cell_type": "code",
   "execution_count": 2,
   "metadata": {},
   "outputs": [
    {
     "name": "stdout",
     "output_type": "stream",
     "text": [
      "['2495', '2695', '3150', '2800', '2196', '3264', '2000', '4740', '3395', '2699', '3620', '2025', '2378', '1795', '4299', '950', '2695', '4500', '3900', '2939', '2045', '2505', '3000', '3100', '2481', '2295', '3525', '2595', '1400', '3050', '2450', '2495', '2955', '2950', '3699', '3400', '2079', '1794', '1540', '2245', '3595', '1750', '2595', '4500', '3669', '2995', '4150', '6950', '4750', '2895', '5400', '2625', '1895', '2320', '1705', '4250', '3495', '3289', '1375', '3600', '1695', '2425', '2795', '2750', '3750', '3600', '1799', '2700', '1395', '2175', '3050', '2775', '2895', '3995', '2775', '2744', '4899', '2531', '5500', '5875', '4856', '1595', '1351', '1495', '3200', '1275', '1200', '2576', '2088', '2950', '2769', '2695', '2995', '3995', '5195', '3250', '1350', '2626', '1995', '1795', '2606', '3495', '2739', '4100', '2046', '2307', '3450', '2200', '15000', '3500', '950', '1200', '1937', '2282', '6000', '1575', '1695', '4900', '5995', '2995', '2145', '2600', '2895', '3475', '4400', '34', '1308', '2176', '2150', '3800', '3450', '3398', '2987', '3495', '2145', '2405', '1575', '1695', '3299', '3399', '4200', '1025', '1850', '1450', '3398', '3498', '3330', '2363', '2895', '2150', '2200', '2500', '1635', '1286', '3200', '2295', '2895', '2950', '2149', '1825', '2498', '3644', '4499', '1695', '1000', '2500', '3900', '4950', '2130', '3200', '1725', '2100', '3475', '3500', '2495', '1800', '3000', '3200', '2850', '2600', '1750', '1995', '1595', '1890', '32', '2700', '2230', '2395', '1975', '1654', '2975', '2924', '1400', '2070', '1287', '1989', '1775', '4555', '2299', '1745', '1706', '5795', '1395', '3975', '2539', '2452', '2640', '2445', '3699', '3049', '1195', '2100', '1325', '2199', '1450', '2199', '2900', '2188', '1800', '2270', '4995', '4209', '2955', '1750', '3600', '2000', '2495', '2082', '2685', '1250', '1950', '2400', '5010', '1850', '1775', '1595', '500', '1485', '2850', '2200', '1725', '3823', '1905', '3900', '4674', '1850', '3400', '975', '4650', '3949', '3695', '3527', '2517', '6600', '3200', '2395', '2295', '1950', '1900', '2231', '2457', '4700', '1375', '1375', '3795', '5850', '3150', '2400', '1550', '1695', '1850', '1595', '3664', '3595', '2850', '1375', '2482', '2700', '5199', '3105', '2295', '2095', '', '1600', '2600', '3700', '1800', '2200', '1376', '5850', '3050', '6395', '1625', '1885', '1600', '1695', '1725', '2785', '2489', '2566', '1900', '1900', '3095', '2695', '2395', '2795', '2000', '2500', '1995', '6000', '2700', '2210', '1796', '1796', '1500', '5630', '3200', '1995', '2595', '1100', '2491', '1950', '1950', '2251', '2793', '1625', '1695', '2999', '3159', '2150', '2595', '980', '1525', '1900', '2700', '2445', '2850', '1696', '1695', '2396', '3000', '2500', '1350', '1775', '1725', '5000', '1495', '2088', '3330', '2098', '2740', '1950', '4000', '4500', '1350', '4680', '2100', '2050', '3000', '2110', '2098', '1951', '1950', '2250', '3889', '3145', '2519', '2800', '3800', '1275', '1811', '3295', '2456', '2695', '2395', '2855', '3699', '3000', '1900', '1430', '1450', '1200', '850', '7500', '2895', '2800', '2395', '2996', '2195', '3400', '3400', '2495', '1850', '2085', '1835', '6000', '2725', '2050', '2500', '1776', '2650', '2658', '2849', '4500', '4500', '1450', '2750', '1992', '2200', '2000', '2600', '2225', '4200', '2235', '1470', '2445', '3200', '3280', '2635', '2150', '2290', '1795', '1850', '1535', '3250', '15000', '3250', '1698', '1725', '2445', '3425', '4750', '3550', '2500', '1995', '1535', '2050', '2695', '2595', '2939', '2763', '2600', '3050', '3800', '3699', '2600', '1750', '1775', '3150', '3950', '2475', '5495', '4200', '2395', '1759', '3395', '2599', '2200', '2500', '1995', '3950', '7000', '2225', '3295', '2225', '2371', '2399', '4995', '4745', '1595', '1454', '1800', '8200', '1749', '2833', '2905', '2759', '1525', '7080', '2650', '2079', '2195', '3182', '1639', '2650', '4400', '3700', '3200', '3800', '2850', '4700', '3000', '3300', '3449', '2149', '2250', '1030', '1175', '1450', '800']\n",
      "['755', '443', '1242', '', '676', '1138', '822', '1406', '', '', '860', '636', '1019', '715', '1533', '', '1200', '', '1600', '1100', '760', '908', '', '1000', '1008', '980', '', '', '', '', '952', '1056', '1062', '', '', '', '887', '1240', '563', '', '', '', '', '', '1154', '945', '2776', '4005', '', '', '', '1726', '900', '985', '', '2800', '', '1267', '1994', '1603', '', '400', '950', '', '', '1357', '', '1400', '', '1200', '1000', '', '1112', '', '900', '1216', '2859', '1150', '', '', '1211', '835', '734', '989', '1250', '690', '1640', '532', '', '1500', '', '1050', '1116', '', '', '850', '735', '1320', '', '942', '1263', '3500', '941', '2200', '697', '701', '2347', '809', '', '', '', '', '1000', '800', '1680', '900', '', '1300', '', '800', '808', '1170', '1100', '', '1900', '', '740', '1000', '2067', '', '1080', '1130', '1015', '1068', '530', '702', '', '', '1090', '', '1500', '', '975', '', '1130', '1130', '915', '', '1000', '600', '', '', '', '', '1322', '1077', '1112', '1600', '700', '675', '900', '', '', '', '', '', '2200', '1850', '676', '1230', '700', '820', '', '1100', '', '1110', '', '', '1538', '', '400', '650', '', '721', '', '750', '920', '1123', '600', '920', '1730', '1050', '', '500', '', '732', '650', '879', '', '', '778', '', '', '1200', '904', '950', '1056', '1060', '', '', '1349', '', '1346', '', '650', '850', '1000', '', '625', '793', '', '', '1405', '', '2800', '', '743', '782', '1051', '', '800', '350', '1265', '720', '866', '1150', '', '1936', '1150', '', '700', '1077', '746', '1100', '', '925', '779', '600', '1275', '1340', '1150', '1412', '546', '1900', '650', '2698', '1680', '2125', '', '650', '950', '1416', '450', '', '', '1900', '', '1200', '', '', '', '1200', '1154', '1059', '1150', '450', '676', '1260', '', '942', '', '', '', '1200', '', '1700', '', '725', '450', '1900', '', '', '', '1064', '1150', '932', '1068', '1350', '705', '638', '615', '615', '561', '', '2698', '', '1550', '1358', '1240', '2100', '850', '928', '750', '750', '250', '', '620', '', '', '600', '846', '1500', '', '820', '876', '600', '570', '', '', '', '', '', '', '', '850', '722', '', '570', '570', '876', '750', '', '700', '', '1068', '3100', '641', '650', '', '', '935', '750', '', '1147', '850', '3800', '1130', '', '595', '', '', '750', '750', '750', '1241', '', '600', '1556', '', '690', '1028', '1100', '712', '680', '939', '1116', '', '', '1200', '738', '', '1450', '1000', '2963', '940', '1040', '876', '1220', '', '', '', '1700', '1816', '', '', '4200', '1360', '800', '860', '701', '1076', '', '', '900', '1590', '', '1087', '723', '2000', '', '2000', '740', '1700', '901', '', '790', '', '700', '900', '1100', '1200', '650', '1540', '896', '1600', '5025', '1600', '615', '669', '1119', '1160', '', '1160', '2636', '1000', '896', '985', '', '796', '1100', '950', '1100', '', '978', '', '2237', '725', '', '2008', '2070', '', '1860', '2234', '880', '445', '', '', '428', '3283', '1992', '1500', '1920', '740', '910', '740', '852', '1060', '', '1309', '1169', '826', '1500', '', '921', '810', '1128', '1044', '450', '', '', '887', '1231', '1036', '', '954', '1650', '', '', '2492', '', '1628', '971', '1225', '', '', '892', '700', '615', '', '']\n"
     ]
    }
   ],
   "source": [
    "#remove header\n",
    "sqft_noheader = sqft[1:]\n",
    "prices_noheader = prices[1:]\n",
    "print(sqft_noheader)\n",
    "print(prices_noheader)"
   ]
  },
  {
   "cell_type": "code",
   "execution_count": 9,
   "metadata": {},
   "outputs": [],
   "source": [
    "#convert string to numbers using a function\n",
    "def extract_int_sqft(sqft):\n",
    "    if not sqft == '':\n",
    "        return int(float(sqft))\n",
    "    else:\n",
    "        return None"
   ]
  },
  {
   "cell_type": "code",
   "execution_count": null,
   "metadata": {},
   "outputs": [],
   "source": []
  },
  {
   "cell_type": "code",
   "execution_count": 12,
   "metadata": {},
   "outputs": [],
   "source": [
    "#create list of sqft\n",
    "int_sqft = []\n",
    "for sqft in sqft_noheader:\n",
    "    int_sqft.append(extract_int_sqft(sqft))"
   ]
  },
  {
   "cell_type": "code",
   "execution_count": 14,
   "metadata": {},
   "outputs": [
    {
     "name": "stdout",
     "output_type": "stream",
     "text": [
      "[2495, 2695, 3150, 2800, 2196, 3264, 2000, 4740, 3395, 2699, 3620, 2025, 2378, 1795, 4299, 950, 2695, 4500, 3900, 2939, 2045, 2505, 3000, 3100, 2481, 2295, 3525, 2595, 1400, 3050, 2450, 2495, 2955, 2950, 3699, 3400, 2079, 1794, 1540, 2245, 3595, 1750, 2595, 4500, 3669, 2995, 4150, 6950, 4750, 2895, 5400, 2625, 1895, 2320, 1705, 4250, 3495, 3289, 1375, 3600, 1695, 2425, 2795, 2750, 3750, 3600, 1799, 2700, 1395, 2175, 3050, 2775, 2895, 3995, 2775, 2744, 4899, 2531, 5500, 5875, 4856, 1595, 1351, 1495, 3200, 1275, 1200, 2576, 2088, 2950, 2769, 2695, 2995, 3995, 5195, 3250, 1350, 2626, 1995, 1795, 2606, 3495, 2739, 4100, 2046, 2307, 3450, 2200, 15000, 3500, 950, 1200, 1937, 2282, 6000, 1575, 1695, 4900, 5995, 2995, 2145, 2600, 2895, 3475, 4400, 34, 1308, 2176, 2150, 3800, 3450, 3398, 2987, 3495, 2145, 2405, 1575, 1695, 3299, 3399, 4200, 1025, 1850, 1450, 3398, 3498, 3330, 2363, 2895, 2150, 2200, 2500, 1635, 1286, 3200, 2295, 2895, 2950, 2149, 1825, 2498, 3644, 4499, 1695, 1000, 2500, 3900, 4950, 2130, 3200, 1725, 2100, 3475, 3500, 2495, 1800, 3000, 3200, 2850, 2600, 1750, 1995, 1595, 1890, 32, 2700, 2230, 2395, 1975, 1654, 2975, 2924, 1400, 2070, 1287, 1989, 1775, 4555, 2299, 1745, 1706, 5795, 1395, 3975, 2539, 2452, 2640, 2445, 3699, 3049, 1195, 2100, 1325, 2199, 1450, 2199, 2900, 2188, 1800, 2270, 4995, 4209, 2955, 1750, 3600, 2000, 2495, 2082, 2685, 1250, 1950, 2400, 5010, 1850, 1775, 1595, 500, 1485, 2850, 2200, 1725, 3823, 1905, 3900, 4674, 1850, 3400, 975, 4650, 3949, 3695, 3527, 2517, 6600, 3200, 2395, 2295, 1950, 1900, 2231, 2457, 4700, 1375, 1375, 3795, 5850, 3150, 2400, 1550, 1695, 1850, 1595, 3664, 3595, 2850, 1375, 2482, 2700, 5199, 3105, 2295, 2095, None, 1600, 2600, 3700, 1800, 2200, 1376, 5850, 3050, 6395, 1625, 1885, 1600, 1695, 1725, 2785, 2489, 2566, 1900, 1900, 3095, 2695, 2395, 2795, 2000, 2500, 1995, 6000, 2700, 2210, 1796, 1796, 1500, 5630, 3200, 1995, 2595, 1100, 2491, 1950, 1950, 2251, 2793, 1625, 1695, 2999, 3159, 2150, 2595, 980, 1525, 1900, 2700, 2445, 2850, 1696, 1695, 2396, 3000, 2500, 1350, 1775, 1725, 5000, 1495, 2088, 3330, 2098, 2740, 1950, 4000, 4500, 1350, 4680, 2100, 2050, 3000, 2110, 2098, 1951, 1950, 2250, 3889, 3145, 2519, 2800, 3800, 1275, 1811, 3295, 2456, 2695, 2395, 2855, 3699, 3000, 1900, 1430, 1450, 1200, 850, 7500, 2895, 2800, 2395, 2996, 2195, 3400, 3400, 2495, 1850, 2085, 1835, 6000, 2725, 2050, 2500, 1776, 2650, 2658, 2849, 4500, 4500, 1450, 2750, 1992, 2200, 2000, 2600, 2225, 4200, 2235, 1470, 2445, 3200, 3280, 2635, 2150, 2290, 1795, 1850, 1535, 3250, 15000, 3250, 1698, 1725, 2445, 3425, 4750, 3550, 2500, 1995, 1535, 2050, 2695, 2595, 2939, 2763, 2600, 3050, 3800, 3699, 2600, 1750, 1775, 3150, 3950, 2475, 5495, 4200, 2395, 1759, 3395, 2599, 2200, 2500, 1995, 3950, 7000, 2225, 3295, 2225, 2371, 2399, 4995, 4745, 1595, 1454, 1800, 8200, 1749, 2833, 2905, 2759, 1525, 7080, 2650, 2079, 2195, 3182, 1639, 2650, 4400, 3700, 3200, 3800, 2850, 4700, 3000, 3300, 3449, 2149, 2250, 1030, 1175, 1450, 800]\n"
     ]
    }
   ],
   "source": [
    "#print(int_prices)\n",
    "print(int_sqft)"
   ]
  },
  {
   "cell_type": "code",
   "execution_count": 4,
   "metadata": {
    "scrolled": true
   },
   "outputs": [
    {
     "ename": "NameError",
     "evalue": "name 'prices_noheader' is not defined",
     "output_type": "error",
     "traceback": [
      "\u001b[1;31m---------------------------------------------------------------------------\u001b[0m",
      "\u001b[1;31mNameError\u001b[0m                                 Traceback (most recent call last)",
      "\u001b[1;32m<ipython-input-4-5f69c274e54e>\u001b[0m in \u001b[0;36m<module>\u001b[1;34m\u001b[0m\n\u001b[0;32m      1\u001b[0m \u001b[1;31m#divide price by sqft to get price per square foot\u001b[0m\u001b[1;33m\u001b[0m\u001b[1;33m\u001b[0m\u001b[1;33m\u001b[0m\u001b[0m\n\u001b[1;32m----> 2\u001b[1;33m \u001b[0mprices_noheader\u001b[0m\u001b[1;33m=\u001b[0m\u001b[1;33m[\u001b[0m\u001b[0mfloat\u001b[0m\u001b[1;33m(\u001b[0m\u001b[0mi\u001b[0m\u001b[1;33m)\u001b[0m \u001b[1;32mfor\u001b[0m \u001b[0mi\u001b[0m \u001b[1;32min\u001b[0m \u001b[0mprices_noheader\u001b[0m\u001b[1;33m]\u001b[0m\u001b[1;33m\u001b[0m\u001b[1;33m\u001b[0m\u001b[0m\n\u001b[0m\u001b[0;32m      3\u001b[0m \u001b[0mint_sqft\u001b[0m\u001b[1;33m=\u001b[0m\u001b[1;33m[\u001b[0m\u001b[0mfloat\u001b[0m\u001b[1;33m(\u001b[0m\u001b[0mi\u001b[0m\u001b[1;33m)\u001b[0m \u001b[1;32mfor\u001b[0m \u001b[0mi\u001b[0m \u001b[1;32min\u001b[0m \u001b[0mint_sqft\u001b[0m\u001b[1;33m]\u001b[0m\u001b[1;33m\u001b[0m\u001b[1;33m\u001b[0m\u001b[0m\n\u001b[0;32m      4\u001b[0m \u001b[0mx\u001b[0m\u001b[1;33m=\u001b[0m\u001b[0mprices_noheader\u001b[0m\u001b[1;33m[\u001b[0m\u001b[0mi\u001b[0m\u001b[1;33m]\u001b[0m\u001b[1;33m\u001b[0m\u001b[1;33m\u001b[0m\u001b[0m\n\u001b[0;32m      5\u001b[0m \u001b[0my\u001b[0m\u001b[1;33m=\u001b[0m\u001b[0mint_sqft\u001b[0m\u001b[1;33m[\u001b[0m\u001b[0mi\u001b[0m\u001b[1;33m]\u001b[0m\u001b[1;33m\u001b[0m\u001b[1;33m\u001b[0m\u001b[0m\n",
      "\u001b[1;31mNameError\u001b[0m: name 'prices_noheader' is not defined"
     ]
    }
   ],
   "source": [
    "#divide price by sqft to get price per square foot\n",
    "prices_noheader=[float(i) for i in prices_noheader]\n",
    "int_sqft=[float(i) for i in int_sqft]\n",
    "x=prices_noheader[i]\n",
    "y=int_sqft[i]\n",
    "price_per_sqft = [x/y]\n",
    "print(price_per_sqft)"
   ]
  },
  {
   "cell_type": "code",
   "execution_count": 5,
   "metadata": {},
   "outputs": [
    {
     "ename": "NameError",
     "evalue": "name 'price_per_sqft' is not defined",
     "output_type": "error",
     "traceback": [
      "\u001b[1;31m---------------------------------------------------------------------------\u001b[0m",
      "\u001b[1;31mNameError\u001b[0m                                 Traceback (most recent call last)",
      "\u001b[1;32m<ipython-input-5-389beca860fb>\u001b[0m in \u001b[0;36m<module>\u001b[1;34m\u001b[0m\n\u001b[0;32m      1\u001b[0m \u001b[1;31m#write result to a new file\u001b[0m\u001b[1;33m\u001b[0m\u001b[1;33m\u001b[0m\u001b[1;33m\u001b[0m\u001b[0m\n\u001b[1;32m----> 2\u001b[1;33m \u001b[0mprice_per_sqft\u001b[0m\u001b[1;33m=\u001b[0m\u001b[0mstr\u001b[0m\u001b[1;33m(\u001b[0m\u001b[0mprice_per_sqft\u001b[0m\u001b[1;33m)\u001b[0m\u001b[1;33m\u001b[0m\u001b[1;33m\u001b[0m\u001b[0m\n\u001b[0m\u001b[0;32m      3\u001b[0m \u001b[0mf\u001b[0m \u001b[1;33m=\u001b[0m \u001b[0mopen\u001b[0m\u001b[1;33m(\u001b[0m\u001b[1;34m'pricepersqft.txt'\u001b[0m\u001b[1;33m,\u001b[0m \u001b[1;34m'w'\u001b[0m\u001b[1;33m)\u001b[0m\u001b[1;33m\u001b[0m\u001b[1;33m\u001b[0m\u001b[0m\n\u001b[0;32m      4\u001b[0m \u001b[0mf\u001b[0m\u001b[1;33m.\u001b[0m\u001b[0mwrite\u001b[0m\u001b[1;33m(\u001b[0m\u001b[0mprice_per_sqft\u001b[0m\u001b[1;33m)\u001b[0m\u001b[1;33m\u001b[0m\u001b[1;33m\u001b[0m\u001b[0m\n\u001b[0;32m      5\u001b[0m \u001b[0mf\u001b[0m\u001b[1;33m.\u001b[0m\u001b[0mclose\u001b[0m\u001b[1;33m(\u001b[0m\u001b[1;33m)\u001b[0m\u001b[1;33m\u001b[0m\u001b[1;33m\u001b[0m\u001b[0m\n",
      "\u001b[1;31mNameError\u001b[0m: name 'price_per_sqft' is not defined"
     ]
    }
   ],
   "source": [
    "#write result to a new file\n",
    "price_per_sqft=str(price_per_sqft)\n",
    "f = open('pricepersqft.txt', 'w')\n",
    "f.write(price_per_sqft)\n",
    "f.close()"
   ]
  },
  {
   "cell_type": "code",
   "execution_count": 6,
   "metadata": {},
   "outputs": [
    {
     "ename": "NameError",
     "evalue": "name 'price_per_sqft' is not defined",
     "output_type": "error",
     "traceback": [
      "\u001b[1;31m---------------------------------------------------------------------------\u001b[0m",
      "\u001b[1;31mNameError\u001b[0m                                 Traceback (most recent call last)",
      "\u001b[1;32m<ipython-input-6-fbf902213786>\u001b[0m in \u001b[0;36m<module>\u001b[1;34m\u001b[0m\n\u001b[0;32m      1\u001b[0m \u001b[1;31m#calculate average price per square foot\u001b[0m\u001b[1;33m\u001b[0m\u001b[1;33m\u001b[0m\u001b[1;33m\u001b[0m\u001b[0m\n\u001b[0;32m      2\u001b[0m \u001b[1;32mimport\u001b[0m \u001b[0mnumpy\u001b[0m\u001b[1;33m\u001b[0m\u001b[1;33m\u001b[0m\u001b[0m\n\u001b[1;32m----> 3\u001b[1;33m \u001b[0mnumpy\u001b[0m\u001b[1;33m.\u001b[0m\u001b[0mmean\u001b[0m\u001b[1;33m(\u001b[0m\u001b[0mprice_per_sqft\u001b[0m\u001b[1;33m)\u001b[0m\u001b[1;33m\u001b[0m\u001b[1;33m\u001b[0m\u001b[0m\n\u001b[0m",
      "\u001b[1;31mNameError\u001b[0m: name 'price_per_sqft' is not defined"
     ]
    }
   ],
   "source": [
    "#calculate average price per square foot\n",
    "import numpy\n",
    "numpy.mean(price_per_sqft)"
   ]
  },
  {
   "cell_type": "markdown",
   "metadata": {},
   "source": [
    "I dealt with the missing data by removing both data points from the data set. I removed the 3rd, 8th, 9th, and 12th element from each list since they were either a missing data point or the corresponding value from the other list. This eliminated the problem of dividing by a value that is not a number."
   ]
  },
  {
   "cell_type": "code",
   "execution_count": null,
   "metadata": {},
   "outputs": [],
   "source": []
  }
 ],
 "metadata": {
  "anaconda-cloud": {},
  "kernelspec": {
   "display_name": "Python 3",
   "language": "python",
   "name": "python3"
  },
  "language_info": {
   "codemirror_mode": {
    "name": "ipython",
    "version": 3
   },
   "file_extension": ".py",
   "mimetype": "text/x-python",
   "name": "python",
   "nbconvert_exporter": "python",
   "pygments_lexer": "ipython3",
   "version": "3.7.1"
  }
 },
 "nbformat": 4,
 "nbformat_minor": 1
}
