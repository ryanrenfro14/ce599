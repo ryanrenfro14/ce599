{
 "cells": [
  {
   "cell_type": "markdown",
   "metadata": {},
   "source": [
    "# Time-Series Modeling, Part 2\n",
    "\n",
    "In this lesson, we will use the BART ridership data to build an ARIMA model.  The python lesson is adapted from here: \n",
    "\n",
    "http://www.seanabu.com/2016/03/22/time-series-seasonal-ARIMA-model-in-python/\n",
    "\n",
    "But a better desciption of the process is available here: \n",
    "\n",
    "https://www.otexts.org/fpp/\n",
    "\n",
    "We draw material from both for this lesson.  "
   ]
  },
  {
   "cell_type": "markdown",
   "metadata": {
    "collapsed": true
   },
   "source": [
    "### Read the data, do some diagnostics, and make it stationary."
   ]
  },
  {
   "cell_type": "code",
   "execution_count": null,
   "metadata": {
    "collapsed": false
   },
   "outputs": [],
   "source": [
    "%matplotlib inline\n",
    "\n",
    "import pandas as pd\n",
    "import seaborn as sns\n",
    "import numpy as np\n",
    "import statsmodels.api as sm\n",
    "import statsmodels.formula.api as smf\n"
   ]
  },
  {
   "cell_type": "code",
   "execution_count": null,
   "metadata": {
    "collapsed": false
   },
   "outputs": [],
   "source": [
    "# This data has\n",
    "bart = pd.read_csv('data/BARTEstimationFile.csv', parse_dates=['MONTH'], index_col='MONTH')\n",
    "bart"
   ]
  },
  {
   "cell_type": "code",
   "execution_count": null,
   "metadata": {
    "collapsed": false
   },
   "outputs": [],
   "source": [
    "bart['RIDERS'].plot()"
   ]
  },
  {
   "cell_type": "markdown",
   "metadata": {},
   "source": [
    "It looks to me like the data have both a trend and seasonality.  To better visualize this, we can do something called decomoposition.  This splits the time series into its trend component, its seasonal component, and the residual (everything else).  Now the trend becomes more clear..."
   ]
  },
  {
   "cell_type": "code",
   "execution_count": null,
   "metadata": {
    "collapsed": false
   },
   "outputs": [],
   "source": [
    "# This is a method in statsmodels. \n",
    "from statsmodels.tsa.seasonal import seasonal_decompose\n",
    "\n",
    "decomposition = seasonal_decompose(bart['RIDERS'], freq=12)  \n",
    "fig = decomposition.plot()"
   ]
  },
  {
   "cell_type": "code",
   "execution_count": null,
   "metadata": {
    "collapsed": false
   },
   "outputs": [],
   "source": [
    "# since our data are not stationary, take a seasonal difference\n",
    "\n",
    "diff = bart - bart.shift(12)\n",
    "diff['RIDERS'].plot()"
   ]
  },
  {
   "cell_type": "code",
   "execution_count": null,
   "metadata": {
    "collapsed": false
   },
   "outputs": [],
   "source": [
    "# looks like I still have a trend, so take the second difference\n",
    "\n",
    "diff2 = diff - diff.shift(1)\n",
    "diff2['RIDERS'].plot()"
   ]
  },
  {
   "cell_type": "code",
   "execution_count": null,
   "metadata": {
    "collapsed": false
   },
   "outputs": [],
   "source": [
    "# and look at the ACF plot\n",
    "\n",
    "fig = sm.graphics.tsa.plot_acf(diff2['RIDERS'][13:], lags=30)"
   ]
  },
  {
   "cell_type": "markdown",
   "metadata": {},
   "source": [
    "### Let's do some models!"
   ]
  },
  {
   "cell_type": "markdown",
   "metadata": {},
   "source": [
    "Now that the data are stationary, we can do some modeling on them.  We start with an autoregressive model, AR(p), which can be expressed as: \n",
    "\n",
    "$y_t = c + \\phi_1 y_{t-1} + \\phi_2 y_{t-2} + ... + \\phi_p y_{t-p} + e_t$\n",
    "\n",
    "where p is the order of the model (the number of lags) and the $\\phi$ values are estimated model parameters.  So this is just a regression model where the descriptive variables are past values of the time series. "
   ]
  },
  {
   "cell_type": "code",
   "execution_count": null,
   "metadata": {
    "collapsed": false
   },
   "outputs": [],
   "source": [
    "mod = sm.tsa.ARMA(diff2['RIDERS'][13:], (2,0))\n",
    "res = mod.fit(trend='nc')\n",
    "print(res.summary())"
   ]
  },
  {
   "cell_type": "markdown",
   "metadata": {},
   "source": [
    "We could also consider a moving average model, which we might write as MA(q): \n",
    "\n",
    "$y_t = c + e_t + \\theta_1 e_{t-1} + \\theta_2 e_{t-2} + ... + \\theta_q e_{t-q} $\n",
    "\n",
    "Where c is a constant, e is the error or residual of the model at that time period, and the $\\theta$ values are estimated coefficients. \n",
    "\n",
    "So this is simply a regression on past errors, rather than the values themselves. "
   ]
  },
  {
   "cell_type": "code",
   "execution_count": null,
   "metadata": {
    "collapsed": false
   },
   "outputs": [],
   "source": [
    "# an MA(2) model\n",
    "\n",
    "mod = sm.tsa.ARMA(diff2['RIDERS'][13:], (0,1))\n",
    "res = mod.fit(trend='nc')\n",
    "print(res.summary())"
   ]
  },
  {
   "cell_type": "markdown",
   "metadata": {},
   "source": [
    "Or we can combine an AR(p) and an MA(q) model into an ARMA(p,q) model. "
   ]
  },
  {
   "cell_type": "code",
   "execution_count": null,
   "metadata": {
    "collapsed": false
   },
   "outputs": [],
   "source": [
    "# an ARMA(1,1) model\n",
    "\n",
    "mod = sm.tsa.ARMA(diff2['RIDERS'][13:], (1,1))\n",
    "res = mod.fit(trend='nc')\n",
    "print(res.summary())"
   ]
  },
  {
   "cell_type": "markdown",
   "metadata": {},
   "source": [
    "### What's the I? \n",
    "\n",
    "We started out talking about ARIMA models, so what's the I?  "
   ]
  },
  {
   "cell_type": "markdown",
   "metadata": {},
   "source": [
    "### Some suggestions\n",
    "\n",
    "In general, I would recommend: \n",
    "\n",
    "1. Make sure your data are stationary with the appriate level of differencing. \n",
    "2. Use a seasonal ARIMA model if you're working with seasonal data, and ARIMA otherwise. \n",
    "3. Use independent regressors whenever possible. \n",
    "4. Use an algorithm to auto-select the order of the models, such as: the Hyndman-Khandakar algorithm for automatic ARIMA modelling (implemented as auto.arima() in R). "
   ]
  },
  {
   "cell_type": "code",
   "execution_count": null,
   "metadata": {
    "collapsed": true
   },
   "outputs": [],
   "source": []
  }
 ],
 "metadata": {
  "anaconda-cloud": {},
  "kernelspec": {
   "display_name": "Python [default]",
   "language": "python",
   "name": "python3"
  },
  "language_info": {
   "codemirror_mode": {
    "name": "ipython",
    "version": 3
   },
   "file_extension": ".py",
   "mimetype": "text/x-python",
   "name": "python",
   "nbconvert_exporter": "python",
   "pygments_lexer": "ipython3",
   "version": "3.5.2"
  }
 },
 "nbformat": 4,
 "nbformat_minor": 1
}
